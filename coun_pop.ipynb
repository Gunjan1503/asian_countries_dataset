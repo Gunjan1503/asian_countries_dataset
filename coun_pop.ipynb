{
 "cells": [
  {
   "cell_type": "code",
   "execution_count": null,
   "id": "cac6241e",
   "metadata": {},
   "outputs": [],
   "source": [
    "import pandas as pd\n",
    "import seaborn as sns\n",
    "sns.set(color_codes = True)\n",
    "from matplotlib import pyplot as plt \n",
    "%matplotlib inline\n",
    "import openpyxl\n",
    "import xlrd"
   ]
  },
  {
   "cell_type": "code",
   "execution_count": null,
   "id": "920a704f",
   "metadata": {},
   "outputs": [],
   "source": [
    "!pip install plotly.express"
   ]
  },
  {
   "cell_type": "code",
   "execution_count": null,
   "id": "40a820c6",
   "metadata": {},
   "outputs": [],
   "source": [
    "import plotly.express as px"
   ]
  },
  {
   "cell_type": "code",
   "execution_count": null,
   "id": "4ce2103f",
   "metadata": {},
   "outputs": [],
   "source": [
    "coun_pop = pd.read_excel('countries and Population.xlsx')"
   ]
  },
  {
   "cell_type": "code",
   "execution_count": null,
   "id": "188cb15d",
   "metadata": {},
   "outputs": [],
   "source": [
    "coun_pop"
   ]
  },
  {
   "cell_type": "code",
   "execution_count": null,
   "id": "8336b456",
   "metadata": {},
   "outputs": [],
   "source": [
    "coun_pop.info()"
   ]
  },
  {
   "cell_type": "code",
   "execution_count": null,
   "id": "ba773b54",
   "metadata": {},
   "outputs": [],
   "source": [
    "coun_pop.shape"
   ]
  },
  {
   "cell_type": "code",
   "execution_count": null,
   "id": "3b0f916e",
   "metadata": {},
   "outputs": [],
   "source": [
    "coun_pop.sort_values(by = ['Population'], ascending = False).head(10)"
   ]
  },
  {
   "cell_type": "code",
   "execution_count": null,
   "id": "9195c99f",
   "metadata": {},
   "outputs": [],
   "source": [
    "coun_pop.sort_values(by = ['Growth Rate'], ascending = False).head(10)"
   ]
  },
  {
   "cell_type": "code",
   "execution_count": null,
   "id": "3881fd23",
   "metadata": {},
   "outputs": [],
   "source": [
    "plt.figure(figsize=(25,7))\n",
    "sns.stripplot(data = coun_pop, x = \"Countries\", y = \"Growth Rate\", color = 'red')\n",
    "plt.show()"
   ]
  },
  {
   "cell_type": "code",
   "execution_count": null,
   "id": "b3fe8c68",
   "metadata": {},
   "outputs": [],
   "source": [
    "import plotly.express as px\n",
    "\n",
    "fig = px.choropleth(coun_pop, \n",
    "                    locations='Countries', color = 'Population',                    \n",
    "                    hover_name='Countries',  \n",
    "                    title='Population by Country')  \n",
    "fig.show()\n"
   ]
  },
  {
   "cell_type": "code",
   "execution_count": null,
   "id": "3a157157",
   "metadata": {},
   "outputs": [],
   "source": [
    "plt.figure(figsize=(25,7))\n",
    "sns.stripplot(data = coun_pop, x = \"Countries\", y = \"Per Capita Income\", jitter = True, color = 'green')\n",
    "locks, labels = plt.xticks()\n",
    "plt.setp(labels, rotation=45)\n",
    "plt.show()"
   ]
  },
  {
   "cell_type": "code",
   "execution_count": null,
   "id": "813c76cf",
   "metadata": {
    "scrolled": false
   },
   "outputs": [],
   "source": [
    "plt.figure(figsize=(15,5))\n",
    "plt.bar(list(coun_pop['Countries'].keys()),\n",
    "        list(coun_pop['Population']),color=\"blue\")\n",
    "plt.title(\"Countries And Population\")\n",
    "\n",
    "plt.show()  "
   ]
  },
  {
   "cell_type": "code",
   "execution_count": null,
   "id": "e8c84215",
   "metadata": {},
   "outputs": [],
   "source": []
  },
  {
   "cell_type": "code",
   "execution_count": null,
   "id": "c6c7b268",
   "metadata": {},
   "outputs": [],
   "source": []
  }
 ],
 "metadata": {
  "kernelspec": {
   "display_name": "Python 3 (ipykernel)",
   "language": "python",
   "name": "python3"
  },
  "language_info": {
   "codemirror_mode": {
    "name": "ipython",
    "version": 3
   },
   "file_extension": ".py",
   "mimetype": "text/x-python",
   "name": "python",
   "nbconvert_exporter": "python",
   "pygments_lexer": "ipython3",
   "version": "3.10.9"
  }
 },
 "nbformat": 4,
 "nbformat_minor": 5
}
